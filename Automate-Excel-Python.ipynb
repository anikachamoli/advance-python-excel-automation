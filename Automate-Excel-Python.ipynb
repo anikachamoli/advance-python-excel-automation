{
 "cells": [
  {
   "cell_type": "code",
   "execution_count": 19,
   "metadata": {},
   "outputs": [],
   "source": [
    "from pathlib import Path\n",
    "import pandas as pd\n",
    "import xlwings as xw"
   ]
  },
  {
   "cell_type": "code",
   "execution_count": 20,
   "metadata": {},
   "outputs": [],
   "source": [
    "INPUT_DIR = Path.cwd() / \"reports\" / \"raw\"\n",
    "OUTPUT_DIR = Path.cwd() / \"reports\""
   ]
  },
  {
   "cell_type": "code",
   "execution_count": 21,
   "metadata": {},
   "outputs": [],
   "source": [
    "# workbook for output\n",
    "summary_wb = xw.Book()\n",
    "summary_sht = summary_wb.sheets[0]\n",
    "summary_sht.name = \"Summary\""
   ]
  },
  {
   "cell_type": "code",
   "execution_count": null,
   "metadata": {},
   "outputs": [],
   "source": [
    "for file in INPUT_DIR.iterdir():\n",
    "    if file.suffix == \".xlsx\":\n",
    "        wb = xw.Book(file)\n",
    "        wb.app.display_alerts = False\n",
    "        #wb.app.visible = False\n",
    "        sht = wb.sheets(\"Overview\")\n",
    "        values = sht.range(\"B5\").expand().copy()\n",
    "        dest_last_row = summary_sht.range(\"A1\").expand().last_cell.row + 1\n",
    "        summary_sht.range(f\"A{dest_last_row}\").paste()\n",
    "        wb.close()"
   ]
  },
  {
   "cell_type": "markdown",
   "metadata": {},
   "source": []
  },
  {
   "cell_type": "code",
   "execution_count": null,
   "metadata": {},
   "outputs": [],
   "source": [
    "header = [\n",
    "    \"Segment\",\n",
    "    \"Country\",\n",
    "    \"Product\",\n",
    "    \"Discount Band\",\n",
    "    \"Units Sold\",\n",
    "    \"Sale Price\",\n",
    "    \"Gross Sales\",\n",
    "    \"Discounts\",\n",
    "    \"Sales\",\n",
    "    \"COGS\",\n",
    "    \"Profit\",\n",
    "]\n",
    "header_row = summary_sht.range(\"A1:K1\")\n",
    "header_row.value = header\n",
    "header_row.font.bold = True\n",
    "header_row.font.color = (255, 255, 255)\n",
    "header_row.color = (119, 136, 153)"
   ]
  },
  {
   "cell_type": "code",
   "execution_count": 24,
   "metadata": {},
   "outputs": [
    {
     "data": {
      "text/html": [
       "<div>\n",
       "<style scoped>\n",
       "    .dataframe tbody tr th:only-of-type {\n",
       "        vertical-align: middle;\n",
       "    }\n",
       "\n",
       "    .dataframe tbody tr th {\n",
       "        vertical-align: top;\n",
       "    }\n",
       "\n",
       "    .dataframe thead th {\n",
       "        text-align: right;\n",
       "    }\n",
       "</style>\n",
       "<table border=\"1\" class=\"dataframe\">\n",
       "  <thead>\n",
       "    <tr style=\"text-align: right;\">\n",
       "      <th></th>\n",
       "      <th>Sales</th>\n",
       "    </tr>\n",
       "    <tr>\n",
       "      <th>Country</th>\n",
       "      <th></th>\n",
       "    </tr>\n",
       "  </thead>\n",
       "  <tbody>\n",
       "    <tr>\n",
       "      <th>Canada</th>\n",
       "      <td>1.971177e+07</td>\n",
       "    </tr>\n",
       "    <tr>\n",
       "      <th>France</th>\n",
       "      <td>1.922138e+07</td>\n",
       "    </tr>\n",
       "    <tr>\n",
       "      <th>Germany</th>\n",
       "      <td>1.727761e+07</td>\n",
       "    </tr>\n",
       "    <tr>\n",
       "      <th>Japan</th>\n",
       "      <td>1.619493e+07</td>\n",
       "    </tr>\n",
       "    <tr>\n",
       "      <th>United States of America</th>\n",
       "      <td>1.990542e+07</td>\n",
       "    </tr>\n",
       "  </tbody>\n",
       "</table>\n",
       "</div>"
      ],
      "text/plain": [
       "                                 Sales\n",
       "Country                               \n",
       "Canada                    1.971177e+07\n",
       "France                    1.922138e+07\n",
       "Germany                   1.727761e+07\n",
       "Japan                     1.619493e+07\n",
       "United States of America  1.990542e+07"
      ]
     },
     "execution_count": 24,
     "metadata": {},
     "output_type": "execute_result"
    }
   ],
   "source": [
    "df = summary_sht.range(\"A1\").options(pd.DataFrame, expand=\"table\").value\n",
    "data_by_country = df.groupby(by=\"Country\").sum()[[\"Sales\"]]\n",
    "data_by_country"
   ]
  },
  {
   "cell_type": "code",
   "execution_count": 25,
   "metadata": {},
   "outputs": [],
   "source": [
    "summary_sht.range(\"M1\").value = data_by_country"
   ]
  },
  {
   "cell_type": "code",
   "execution_count": 26,
   "metadata": {},
   "outputs": [],
   "source": [
    "# charts\n",
    "chart = summary_sht.charts.add(\n",
    "    left=summary_sht.range(\"M8\").left, \n",
    "    top=summary_sht.range(\"M8\").top,\n",
    "    width=400,\n",
    "    height=200,\n",
    ")\n",
    "chart.set_source_data(summary_sht.range(\"M1\").expand())\n",
    "chart.chart_type = \"bar_stacked\""
   ]
  },
  {
   "cell_type": "code",
   "execution_count": 32,
   "metadata": {},
   "outputs": [
    {
     "data": {
      "text/plain": [
       "<Picture 'Sales' in <Sheet [Book4]Summary>>"
      ]
     },
     "execution_count": 32,
     "metadata": {},
     "output_type": "execute_result"
    },
    {
     "data": {
      "image/png": "[encoded data removed]",
      "text/plain": [
       "<Figure size 500x300 with 1 Axes>"
      ]
     },
     "metadata": {},
     "output_type": "display_data"
    }
   ],
   "source": [
    "\n",
    "fig = plt.figure(figsize=(5, 3))\n",
    "ax = data_by_country.sort_values(by=\"Sales\").plot(kind=\"barh\", ax=fig.gca())\n",
    "fig.savefig(\"sales_plot.png\", format=\"png\")\n",
    "\n",
    "summary_sht.pictures.add(\n",
    "    \"sales_plot.png\",\n",
    "    name=\"Sales\",\n",
    "    update=True,\n",
    "    left=summary_sht.range(\"M23\").left,\n",
    "    top=summary_sht.range(\"M23\").top,\n",
    "    width=400,\n",
    "    height=200,\n",
    ")\n"
   ]
  },
  {
   "cell_type": "code",
   "execution_count": 33,
   "metadata": {},
   "outputs": [],
   "source": [
    "summary_sht.autofit()\n",
    "summary_wb.save(OUTPUT_DIR / \"summary.xlsx\")\n",
    "if len(summary_wb.app.books) == 1:\n",
    "    summary_wb.app.quit()\n",
    "else:\n",
    "    summary_wb.close()"
   ]
  }
 ],
 "metadata": {
  "kernelspec": {
   "display_name": "venv",
   "language": "python",
   "name": "python3"
  },
  "language_info": {
   "codemirror_mode": {
    "name": "ipython",
    "version": 3
   },
   "file_extension": ".py",
   "mimetype": "text/x-python",
   "name": "python",
   "nbconvert_exporter": "python",
   "pygments_lexer": "ipython3",
   "version": "3.9.6"
  }
 },
 "nbformat": 4,
 "nbformat_minor": 4
}
